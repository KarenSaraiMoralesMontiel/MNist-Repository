{
  "cells": [
    {
      "cell_type": "markdown",
      "metadata": {
        "id": "gwuO_2qjhbcS"
      },
      "source": [
        "# Practica 2 - MNist con NumPy"
      ]
    },
    {
      "cell_type": "markdown",
      "metadata": {
        "id": "QToFwRDAOQll"
      },
      "source": [
        "## Usando Numpy con MNist\n",
        "\n",
        "MNist es un popular conjunto de datos que contiene imágenes de dígitos del 0-9 escritos a mano. Las imágenes en el conjunto están compuestas por 28x28 pixeles, cada pixel representa un tono en una escala de grises siendo 0 el valor más luminoso y 255 el valor más oscuro.\n",
        "\n",
        "Unos ejemplos de las imágenes en MNist:\n",
        "\n",
        "![alt text](https://upload.wikimedia.org/wikipedia/commons/2/27/MnistExamples.png)"
      ]
    },
    {
      "cell_type": "markdown",
      "metadata": {
        "id": "IKNPtF2Z_BgB"
      },
      "source": [
        "Ejecuta la siguiente celda para importar las librerías utilizadas durante la notebook."
      ]
    },
    {
      "cell_type": "code",
      "execution_count": 3,
      "metadata": {
        "id": "M_YPfZtiMBZH"
      },
      "outputs": [],
      "source": [
        "import numpy as np\n",
        "from matplotlib import pyplot as plt"
      ]
    },
    {
      "cell_type": "markdown",
      "metadata": {
        "id": "AHYr9Bml-ovn"
      },
      "source": [
        "Una función auxiliar ```display_example``` para visualizar ejemplos en el conjunto de datos MNist.\n",
        "\n",
        "*Nota: No olvides ejecutar la celda*"
      ]
    },
    {
      "cell_type": "code",
      "execution_count": 4,
      "metadata": {
        "id": "9SYL3xduRMnA"
      },
      "outputs": [],
      "source": [
        "def display_example(x, example_width=None):\n",
        "    \"\"\"Muestra un ejemplo en forma 1D como una imagen\"\"\"\n",
        "    # Compute rows, cols\n",
        "    if x.ndim == 1:\n",
        "        n = x.size\n",
        "        m = 1\n",
        "        x = x[None]  # Promote to a 2 dimensional array\n",
        "    else:\n",
        "        raise IndexError('Input x should be 1 dimensional.')\n",
        "\n",
        "    example_width = example_width or int(np.round(np.sqrt(n)))\n",
        "    example_height = n // example_width\n",
        "\n",
        "    plt.imshow(x[0].reshape(example_height, example_width),\n",
        "                        cmap='Greys', extent=[0, 1, 0, 1])\n",
        "    plt.show()"
      ]
    },
    {
      "cell_type": "markdown",
      "metadata": {
        "id": "GXfxMAENRUnG"
      },
      "source": [
        "## Cargando los datos usando Numpy\n",
        "\n",
        "Usarémos la función ```loadtxt``` para cargar una versión de MNist que está en nuestra máquina asignada por colab."
      ]
    },
    {
      "cell_type": "code",
      "execution_count": 5,
      "metadata": {
        "id": "Vp4FZPSsL9Uo",
        "colab": {
          "base_uri": "https://localhost:8080/"
        },
        "outputId": "5511a03c-fcea-46c3-8c13-c04133df879e"
      },
      "outputs": [
        {
          "output_type": "execute_result",
          "data": {
            "text/plain": [
              "array([[6., 0., 0., ..., 0., 0., 0.],\n",
              "       [5., 0., 0., ..., 0., 0., 0.],\n",
              "       [7., 0., 0., ..., 0., 0., 0.],\n",
              "       ...,\n",
              "       [2., 0., 0., ..., 0., 0., 0.],\n",
              "       [9., 0., 0., ..., 0., 0., 0.],\n",
              "       [5., 0., 0., ..., 0., 0., 0.]])"
            ]
          },
          "metadata": {},
          "execution_count": 5
        }
      ],
      "source": [
        "MNist = np.loadtxt(\"sample_data/mnist_train_small.csv\", delimiter=',')\n",
        "MNist"
      ]
    },
    {
      "cell_type": "markdown",
      "metadata": {
        "id": "_6oj2tJs8a2c"
      },
      "source": [
        "El conjunto de datos MNist en Colab está formado por imágenes de ejemplo. Cada ejemplo en el conjunto es una fila en el arreglo de NumPy.\n",
        "\n",
        "Cada ejemplo (fila) es un arreglo con $785$ elementos, el primer elemento es la etiqueta del dígito (un entero de $0$ a $9$). El resto de los elementos ($784$) son los pixeles de la imágen ($28\\times28 = 784$)."
      ]
    },
    {
      "cell_type": "markdown",
      "metadata": {
        "id": "pjTayKkEWn2d"
      },
      "source": [
        "## ¿Cuántos ejemplos (filas) tenemos en el conjunto de datos?\n",
        "\n",
        "Utiliza NumPy para calcular el número de filas en el set de datos, rellena el código para guardar el valor en la variable ```m```."
      ]
    },
    {
      "cell_type": "code",
      "execution_count": 6,
      "metadata": {
        "id": "fdgCOUGsW38Z",
        "colab": {
          "base_uri": "https://localhost:8080/"
        },
        "outputId": "91709d02-cd75-41b2-97b5-6ee3ba16b216"
      },
      "outputs": [
        {
          "output_type": "stream",
          "name": "stdout",
          "text": [
            "El set de datos contiene  (20000, 785)  ejemplos.\n"
          ]
        }
      ],
      "source": [
        "m = MNist.shape\n",
        "print(\"El set de datos contiene \", m, \" ejemplos.\")"
      ]
    },
    {
      "cell_type": "markdown",
      "metadata": {
        "id": "2dPBaPSfUXbu"
      },
      "source": [
        "## Separando los datos.\n",
        "\n",
        "En la siguiente celda, deberás completar el código para separar el conjunto de datos en dos, un conjunto ```X``` que contendrá únicamente los pixeles de las imágenes y un conjunto ```y``` que contendrá las etiquetas asociadas al número que está en la imágen.\n",
        "\n",
        "Utiliza slicing con NumPy para seleccionar los elementos adecuados."
      ]
    },
    {
      "cell_type": "code",
      "execution_count": 7,
      "metadata": {
        "id": "B-q6bwbmUtpA",
        "colab": {
          "base_uri": "https://localhost:8080/"
        },
        "outputId": "921629e9-f5af-4adc-c5e0-56962221607b"
      },
      "outputs": [
        {
          "output_type": "stream",
          "name": "stdout",
          "text": [
            "[6. 5. 7. ... 2. 9. 5.]\n"
          ]
        }
      ],
      "source": [
        "y = MNist[:,0]\n",
        "X = MNist[:,1:]\n",
        "print(y)"
      ]
    },
    {
      "cell_type": "markdown",
      "metadata": {
        "id": "44ZF3RSG_sar"
      },
      "source": [
        "Comprueba ejecutando la siguiente celda:"
      ]
    },
    {
      "cell_type": "code",
      "execution_count": 8,
      "metadata": {
        "id": "AbPJnku-_akV",
        "colab": {
          "base_uri": "https://localhost:8080/"
        },
        "outputId": "5fd3b7f4-9018-43ba-815a-3746aa1d64d7"
      },
      "outputs": [
        {
          "output_type": "stream",
          "name": "stdout",
          "text": [
            "X.shape: (20000, 784)\n",
            "y.shape: (20000,)\n"
          ]
        }
      ],
      "source": [
        "assert y.shape == (20000,) and X.shape == (20000, 784), \"Error en las dimensiones de X o y\"\n",
        "print(\"X.shape:\", X.shape)\n",
        "print(\"y.shape:\", y.shape)"
      ]
    },
    {
      "cell_type": "markdown",
      "metadata": {
        "id": "AjMIaWVIUDLq"
      },
      "source": [
        "## Visualizando las imágenes en el set de datos\n",
        "\n",
        "Usemos la función auxiliar display_example para visualizar los ejemplos en el set de datos. Intentar cambiar el valor de ```i``` para mostrar una ejemplo distinto."
      ]
    },
    {
      "cell_type": "code",
      "execution_count": 9,
      "metadata": {
        "id": "J1M_emH_RTaX",
        "colab": {
          "base_uri": "https://localhost:8080/",
          "height": 452
        },
        "outputId": "f11de261-c68e-4b7b-f387-c4369f49212f"
      },
      "outputs": [
        {
          "output_type": "display_data",
          "data": {
            "text/plain": [
              "<Figure size 640x480 with 1 Axes>"
            ],
            "image/png": "[encoded data removed]"
          },
          "metadata": {}
        },
        {
          "output_type": "stream",
          "name": "stdout",
          "text": [
            "Imágen con etiqueta:  5.0\n"
          ]
        }
      ],
      "source": [
        "#puedes cambiar el valor de i\n",
        "i = 4\n",
        "\n",
        "example = X[i]\n",
        "example_label = y[i]\n",
        "display_example(example)\n",
        "print(\"Imágen con etiqueta: \", example_label)"
      ]
    },
    {
      "cell_type": "markdown",
      "metadata": {
        "id": "KncyFgv4apeS"
      },
      "source": [
        "## Contando el número de ejemplos para cada \"clase\"\n",
        "\n",
        "Rellena la función ```count_class_examples()``` para imprimir el número de ejemplos de cada etiqueta en el set de datos. Esto es, el número de ceros, de unos, dos, ..., nueves.\n",
        "\n",
        "Para MNist las etiquetas $y \\in \\{0, 1, 2, \\dots, 9\\}$"
      ]
    },
    {
      "cell_type": "code",
      "execution_count": 10,
      "metadata": {
        "id": "5DXr5BVpMvy7"
      },
      "outputs": [],
      "source": [
        "def count_class_examples(y):\n",
        "  \"\"\"Imprime el numero de ejemplos para cada clase en y.\n",
        "\n",
        "  Argumentos\n",
        "  y - arreglos de numpy que contiene etiquetas\n",
        "  \"\"\"\n",
        "  unique, counts = np.unique(y, return_counts=True)\n",
        "  count_dic = dict(zip([int(u) for u in unique], counts))\n",
        "  for i in range(10):\n",
        "    count = count_dic[i]\n",
        "    print(\"Numero de \", i, count)"
      ]
    },
    {
      "cell_type": "code",
      "execution_count": 11,
      "metadata": {
        "id": "cetXv0aueKOe",
        "colab": {
          "base_uri": "https://localhost:8080/"
        },
        "outputId": "42752ca4-f7a3-4b76-bbe2-80292e5c76fa"
      },
      "outputs": [
        {
          "output_type": "stream",
          "name": "stdout",
          "text": [
            "Numero de  0 1962\n",
            "Numero de  1 2243\n",
            "Numero de  2 1989\n",
            "Numero de  3 2021\n",
            "Numero de  4 1924\n",
            "Numero de  5 1761\n",
            "Numero de  6 2039\n",
            "Numero de  7 2126\n",
            "Numero de  8 1912\n",
            "Numero de  9 2023\n"
          ]
        }
      ],
      "source": [
        "count_class_examples(y)"
      ]
    },
    {
      "cell_type": "markdown",
      "metadata": {
        "id": "F_bF-YXHfY8p"
      },
      "source": [
        "## Calcula el arreglo representativo para cada clase\n",
        "\n",
        "Utiliza Numpy para encontrar el arreglo representativo promediando los arreglos para cada clase. Rellena la función ``` class_means``` para que devuelva un arreglo de NumPy que contenga en cada fila el arreglo promedio de los respectivos ejemplos (del dígito 0 al 9)."
      ]
    },
    {
      "cell_type": "code",
      "execution_count": 12,
      "metadata": {
        "id": "IMTD35bOFGg_"
      },
      "outputs": [],
      "source": [
        "def class_means(X, y):\n",
        "    \"\"\"\n",
        "    Calcula el arreglo promedio (representativo) de cada clase\n",
        "    \"\"\"\n",
        "    # Numero de ejemplos (filas)\n",
        "    m = X.shape[0]\n",
        "    # Numero de features (columnas)\n",
        "    n = X.shape[1]\n",
        "    # Clases distintas en el set\n",
        "    ulabels = np.unique(y)\n",
        "    # Numero de clases\n",
        "    classes = ulabels.size\n",
        "\n",
        "    # Rellena means con el arreglo promedio de cada clase\n",
        "    means = np.empty((classes, n))\n",
        "\n",
        "    for i in range(classes):\n",
        "        # Selecciona las filas correspondientes a la clase i\n",
        "        class_indices = np.where(y == ulabels[i])[0]\n",
        "        # Calcula el promedio para estas filas\n",
        "        class_mean = np.mean(X[class_indices], axis=0)\n",
        "        means[i,:] = class_mean\n",
        "\n",
        "    return means\n"
      ]
    },
    {
      "cell_type": "code",
      "execution_count": 13,
      "metadata": {
        "id": "Nupjyy3kBatD",
        "colab": {
          "base_uri": "https://localhost:8080/"
        },
        "outputId": "de3707e4-e55d-4381-b41c-6389cf9c5041"
      },
      "outputs": [
        {
          "output_type": "execute_result",
          "data": {
            "text/plain": [
              "(10, 784)"
            ]
          },
          "metadata": {},
          "execution_count": 13
        }
      ],
      "source": [
        "class_representatives = class_means(X, y)\n",
        "\n",
        "#shape del arreglo que contiene los representativos\n",
        "class_representatives.shape"
      ]
    },
    {
      "cell_type": "code",
      "execution_count": 14,
      "metadata": {
        "id": "bK4wRko_obDb",
        "colab": {
          "base_uri": "https://localhost:8080/"
        },
        "outputId": "f1a4ca1c-6207-47d8-99ff-8c5cf2f44d7d"
      },
      "outputs": [
        {
          "output_type": "stream",
          "name": "stdout",
          "text": [
            "Funcion clas_means es correcta\n"
          ]
        }
      ],
      "source": [
        "assert np.array_equal(class_means(np.array([[4, 6], [2, 4], [10, 4], [2, 6]]), np.array([1, 2, 1, 2])), np.array([[7, 5], [2, 5]])), \"Error\"\n",
        "assert class_representatives.shape == (10, 784), \"Error en las dimensiones de class_representatives\"\n",
        "print(\"Funcion clas_means es correcta\")"
      ]
    },
    {
      "cell_type": "markdown",
      "metadata": {
        "id": "qQjZYBzZFckR"
      },
      "source": [
        "Utiliza la función ```display_example``` para mostrar el ejemplo promedio de la clase (para cada clase)."
      ]
    },
    {
      "cell_type": "code",
      "execution_count": 15,
      "metadata": {
        "id": "mcnZre4CBhIl",
        "colab": {
          "base_uri": "https://localhost:8080/",
          "height": 1000
        },
        "outputId": "4e820dde-e5e6-4536-f574-bd8ec03202aa"
      },
      "outputs": [
        {
          "output_type": "display_data",
          "data": {
            "text/plain": [
              "<Figure size 640x480 with 1 Axes>"
            ],
            "image/png": "[encoded data removed]"
          },
          "metadata": {}
        },
        {
          "output_type": "display_data",
          "data": {
            "text/plain": [
              "<Figure size 640x480 with 1 Axes>"
            ],
            "image/png": "[encoded data removed]"
          },
          "metadata": {}
        },
        {
          "output_type": "display_data",
          "data": {
            "text/plain": [
              "<Figure size 640x480 with 1 Axes>"
            ],
            "image/png": "[encoded data removed]"
          },
          "metadata": {}
        },
        {
          "output_type": "display_data",
          "data": {
            "text/plain": [
              "<Figure size 640x480 with 1 Axes>"
            ],
            "image/png": "[encoded data removed]"
          },
          "metadata": {}
        },
        {
          "output_type": "display_data",
          "data": {
            "text/plain": [
              "<Figure size 640x480 with 1 Axes>"
            ],
            "image/png": "[encoded data removed]"
          },
          "metadata": {}
        },
        {
          "output_type": "display_data",
          "data": {
            "text/plain": [
              "<Figure size 640x480 with 1 Axes>"
            ],
            "image/png": "[encoded data removed]"
          },
          "metadata": {}
        },
        {
          "output_type": "display_data",
          "data": {
            "text/plain": [
              "<Figure size 640x480 with 1 Axes>"
            ],
            "image/png": "[encoded data removed]"
          },
          "metadata": {}
        },
        {
          "output_type": "display_data",
          "data": {
            "text/plain": [
              "<Figure size 640x480 with 1 Axes>"
            ],
            "image/png": "[encoded data removed]"
          },
          "metadata": {}
        },
        {
          "output_type": "display_data",
          "data": {
            "text/plain": [
              "<Figure size 640x480 with 1 Axes>"
            ],
            "image/png": "[encoded data removed]"
          },
          "metadata": {}
        },
        {
          "output_type": "display_data",
          "data": {
            "text/plain": [
              "<Figure size 640x480 with 1 Axes>"
            ],
            "image/png": "[encoded data removed]"
          },
          "metadata": {}
        }
      ],
      "source": [
        "for i in range(10):\n",
        "  display_example(class_representatives[i])"
      ]
    },
    {
      "cell_type": "markdown",
      "metadata": {
        "id": "jaemlIYPEbIt"
      },
      "source": [
        "## Clasificador de dígitos usando distancias\n",
        "\n",
        "En esta sección, generaremos un modelo para identificar dígitos mediante el uso de distancias euclidianas. Calcularemos la distancia entre cada ejemplo en el conjunto y los dígitos representativos de cada clase (el valor promedio de cada clase). Le asignaremos a cada ejemplo la etiqueta del dígito representativo con menor distancia."
      ]
    },
    {
      "cell_type": "markdown",
      "metadata": {
        "id": "hCh7PfLgFDWx"
      },
      "source": [
        "### Distancia Euclidiana\n",
        "\n",
        "En la siguiente celda, rellena la función ```euclidean_distance``` para calcular la distancia euclidiana entre los puntos P y Q.\n",
        "\n",
        "La distancia euclidiana entre dos puntos P y Q en un espacio n-dimesional es:\n",
        "\n",
        "$$d_e(P, Q) = \\sqrt{(p_1 - q_1)^2+(p_2-q_2)^2 + \\dots+(p_n-q_n)^2} = \\sqrt{\\sum_{i=1}^{n}(p_i-q_i)^2} $$"
      ]
    },
    {
      "cell_type": "code",
      "execution_count": 16,
      "metadata": {
        "id": "thU_Ff2AEWac"
      },
      "outputs": [],
      "source": [
        "def euclidean_distance(P, Q):\n",
        "  \"\"\"\n",
        "  Calcula la distancia euclidiana entre los elementos de P y Q\n",
        "  \"\"\"\n",
        "\n",
        "    # Create a list of tuples using zip\n",
        "  tuples_list = list(zip(P.flatten(), Q.flatten()))\n",
        "  sum_of_squared_distances = sum(np.linalg.norm(np.array(p) - np.array(q))**2 for p, q in tuples_list)\n",
        "  e_distance = np.array([np.sqrt(sum_of_squared_distances)])\n",
        "\n",
        "    # Convert the list of tuples back to a NumPy array\n",
        "  return e_distance"
      ]
    },
    {
      "cell_type": "code",
      "execution_count": 15,
      "metadata": {
        "id": "KQC1XSUEefxr",
        "colab": {
          "base_uri": "https://localhost:8080/"
        },
        "outputId": "067ab010-2e3c-4a27-a3ea-d7af7ddec5df"
      },
      "outputs": [
        {
          "output_type": "execute_result",
          "data": {
            "text/plain": [
              "array([3.])"
            ]
          },
          "metadata": {},
          "execution_count": 15
        }
      ],
      "source": [
        "a = np.array([[1, 2, 3]])\n",
        "b = np.array([[3, 3, 5]])\n",
        "euclidean_distance(a, b)"
      ]
    },
    {
      "cell_type": "code",
      "execution_count": 17,
      "metadata": {
        "id": "oqsvgC5HcprY"
      },
      "outputs": [],
      "source": [
        "assert euclidean_distance(np.array([[1, 2, 3]]), np.array([[3, 3, 5]]))[0] == 3.0, \"Error en euclidean_distance\""
      ]
    },
    {
      "cell_type": "markdown",
      "metadata": {
        "id": "g_Z1b1-gBWiY"
      },
      "source": [
        "## Obten el representante más cercano para cada ejemplo\n",
        "\n",
        "Rellena la función ```closest_point``` para asignar a cada ejemplo la etiqueta del dígito más cercano según su distancia al arreglo representativo.\n",
        "\n",
        "*¿Puedes hacerlo con 2, 1 o ningún ciclo for?*"
      ]
    },
    {
      "cell_type": "code",
      "execution_count": 18,
      "metadata": {
        "id": "xsxSqA2UjTBQ"
      },
      "outputs": [],
      "source": [
        "import numpy as np\n",
        "\n",
        "def closest_point(X, representatives):\n",
        "    \"\"\"\n",
        "    Devuelve un arreglo con la etiqueta del elemento más cercano\n",
        "    para cada ejemplo en X\n",
        "\n",
        "    X - el arreglo con los ejemplos\n",
        "    representatives - el arreglo con los elementos representativos de cada clase\n",
        "    \"\"\"\n",
        "    # Numero de ejemplos (filas)\n",
        "    m = X.shape[0]\n",
        "    # Numero de clases\n",
        "    classes = representatives.shape[0]\n",
        "\n",
        "    # Distancias mínimas\n",
        "    min_distances = np.full(m, np.inf)\n",
        "    # El indice de la mejor distancia\n",
        "    best = np.zeros((m), dtype=np.int8)\n",
        "\n",
        "    # Itera sobre cada ejemplo\n",
        "    for i in range(m):\n",
        "        # Calcula la distancia entre el ejemplo actual y todos los representantes\n",
        "        distances = np.linalg.norm(representatives - X[i], axis=1)\n",
        "        # Encuentra el índice del representante más cercano\n",
        "        closest_index = np.argmin(distances)\n",
        "        # Guarda el índice del representante más cercano y su distancia\n",
        "        best[i] = closest_index\n",
        "\n",
        "    return best"
      ]
    },
    {
      "cell_type": "code",
      "execution_count": 19,
      "metadata": {
        "id": "EioV2HZmH1Z-"
      },
      "outputs": [],
      "source": [
        "y_pred = closest_point(X, class_representatives)"
      ]
    },
    {
      "cell_type": "code",
      "execution_count": 20,
      "metadata": {
        "id": "LAICdMHqH8tj"
      },
      "outputs": [],
      "source": [
        "assert y_pred.shape == (20000,) or y_pred.shape == (20000), \"Error en las dimensiones de y_pred\""
      ]
    },
    {
      "cell_type": "markdown",
      "metadata": {
        "id": "zdSzZo8WHUxd"
      },
      "source": [
        "## Visualiza las predicciones"
      ]
    },
    {
      "cell_type": "code",
      "execution_count": 21,
      "metadata": {
        "id": "0SsGlu2uHzFF",
        "colab": {
          "base_uri": "https://localhost:8080/",
          "height": 452
        },
        "outputId": "cc27373a-5a57-426b-9585-a5692d933928"
      },
      "outputs": [
        {
          "output_type": "display_data",
          "data": {
            "text/plain": [
              "<Figure size 640x480 with 1 Axes>"
            ],
            "image/png": "[encoded data removed]"
          },
          "metadata": {}
        },
        {
          "output_type": "stream",
          "name": "stdout",
          "text": [
            "Imágen con etiqueta:  5.0  modelo dice: 5\n"
          ]
        }
      ],
      "source": [
        "#intenta cambiar el valor de i\n",
        "i = 1\n",
        "\n",
        "example = X[i]\n",
        "pred_label = y_pred[i]\n",
        "true_label = y[i]\n",
        "display_example(example)\n",
        "print(\"Imágen con etiqueta: \", true_label, \" modelo dice:\", pred_label)"
      ]
    },
    {
      "cell_type": "markdown",
      "metadata": {
        "id": "wx9HvySkHQWW"
      },
      "source": [
        "## Evaluando el clasificador\n",
        "\n",
        "Una vez que tienes un modelo, debes evaluarlo para saber que tan bien (o mal) está haciendo su trabajo. Para el modelo clasificador de dígitos, usaremos una métrica típica de evaluación."
      ]
    },
    {
      "cell_type": "markdown",
      "metadata": {
        "id": "qCLIrbVuItef"
      },
      "source": [
        "## Exactitúd (Accuracy)\n",
        "\n",
        "La exactitúd o accuracy mide el rendimiento general del modelo.\n",
        "\n",
        "Utiliza la siguiente fórmula para completar la función ```accuracy``` para medir el rendimiento del modelo de clasificación de dígitos:\n",
        "\n",
        "$$\\texttt{accuracy}(y, \\hat{y}) = \\frac{1}{m} \\sum_{i=0}^{m-1} 1(\\hat{y}_i = y_i)$$\n",
        "\n",
        "$$ 1(\\hat{y}_i = y_i) = 1 \\quad \\text{cuando} \\quad \\hat{y}_i = y_i$$\n",
        "\n",
        "$$ 1(\\hat{y}_i = y_i) = 0 \\quad \\text{cuando} \\quad \\hat{y}_i \\neq y_i$$\n",
        "\n",
        "$$m \\quad \\text{es el número de ejemplos}$$"
      ]
    },
    {
      "cell_type": "code",
      "execution_count": 22,
      "metadata": {
        "id": "_MeQoOaYItol"
      },
      "outputs": [],
      "source": [
        "def accuracy(y, y_pred):\n",
        "    \"\"\"\n",
        "    Devuelve la exactitud dados dos vectores \"y\" con la verdad\n",
        "    y \"y_pred\" con las predicciones\n",
        "    \"\"\"\n",
        "    # Calcula el número total de ejemplos\n",
        "    m = len(y)\n",
        "\n",
        "    # Inicializa la suma de indicadores de coincidencias\n",
        "    sum_of_matches = 0\n",
        "\n",
        "    # Compara cada elemento de y con su predicción correspondiente en y_pred\n",
        "    for true_label, pred_label in zip(y, y_pred):\n",
        "        # Incrementa la suma de indicadores de coincidencias si la predicción es correcta\n",
        "        if true_label == pred_label:\n",
        "            sum_of_matches += 1\n",
        "\n",
        "    # Calcula la exactitud dividiendo la suma de indicadores de coincidencias por el número total de ejemplos\n",
        "    acc = sum_of_matches / m\n",
        "\n",
        "    return acc\n"
      ]
    },
    {
      "cell_type": "code",
      "execution_count": 23,
      "metadata": {
        "id": "f-aY9tZ0bh1H",
        "colab": {
          "base_uri": "https://localhost:8080/"
        },
        "outputId": "b52a14b9-ef73-4ff4-94ac-26996167e70c"
      },
      "outputs": [
        {
          "output_type": "execute_result",
          "data": {
            "text/plain": [
              "0.80925"
            ]
          },
          "metadata": {},
          "execution_count": 23
        }
      ],
      "source": [
        "accuracy(y, y_pred)"
      ]
    },
    {
      "cell_type": "markdown",
      "metadata": {
        "id": "ecFa1uuuJ_G-"
      },
      "source": [
        "¿Consideras que el modelo es bueno para predecir dígitos escritos a mano?, ¿crees que hay margen de mejora?"
      ]
    }
  ],
  "metadata": {
    "colab": {
      "provenance": []
    },
    "kernelspec": {
      "display_name": "Python 3 (ipykernel)",
      "language": "python",
      "name": "python3"
    },
    "language_info": {
      "codemirror_mode": {
        "name": "ipython",
        "version": 3
      },
      "file_extension": ".py",
      "mimetype": "text/x-python",
      "name": "python",
      "nbconvert_exporter": "python",
      "pygments_lexer": "ipython3",
      "version": "3.9.13"
    }
  },
  "nbformat": 4,
  "nbformat_minor": 0
}